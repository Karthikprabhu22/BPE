{
 "cells": [
  {
   "cell_type": "code",
   "execution_count": 1,
   "metadata": {},
   "outputs": [],
   "source": [
    "import BPE_functions as bpe\n",
    "\n",
    "import numpy as np\n",
    "import matplotlib.pyplot as plt\n",
    "from scipy.optimize import minimize"
   ]
  },
  {
   "cell_type": "code",
   "execution_count": 2,
   "metadata": {},
   "outputs": [],
   "source": [
    "c = bpe.DataContainer()"
   ]
  },
  {
   "cell_type": "code",
   "execution_count": 3,
   "metadata": {},
   "outputs": [],
   "source": [
    "c.import_params()\n",
    "c.import_systematic_covariance_matrix()\n",
    "c.calculate_total_covariance_matrix()"
   ]
  },
  {
   "cell_type": "code",
   "execution_count": 4,
   "metadata": {},
   "outputs": [
    {
     "data": {
      "text/plain": [
       "array([[4.550000e-04, 2.604450e-04, 2.728900e-04, ..., 1.010500e-05,\n",
       "        7.052000e-05, 2.991250e-04],\n",
       "       [2.604450e-04, 7.944400e-04, 1.326800e-04, ..., 8.776500e-05,\n",
       "        1.174200e-04, 2.373850e-04],\n",
       "       [2.728900e-04, 1.326800e-04, 2.166850e-04, ..., 1.490000e-06,\n",
       "        1.019800e-04, 3.108300e-04],\n",
       "       ...,\n",
       "       [1.010500e-05, 8.776500e-05, 1.490000e-06, ..., 6.024750e-04,\n",
       "        7.305850e-04, 8.186400e-04],\n",
       "       [7.052000e-05, 1.174200e-04, 1.019800e-04, ..., 7.305850e-04,\n",
       "        2.527705e-03, 2.599130e-03],\n",
       "       [2.991250e-04, 2.373850e-04, 3.108300e-04, ..., 8.186400e-04,\n",
       "        2.599130e-03, 3.628650e-03]])"
      ]
     },
     "execution_count": 4,
     "metadata": {},
     "output_type": "execute_result"
    }
   ],
   "source": [
    "c.systematic_covariance_matrix"
   ]
  },
  {
   "cell_type": "code",
   "execution_count": 5,
   "metadata": {},
   "outputs": [
    {
     "data": {
      "text/plain": [
       "array([[1.4222100e-03, 2.6044500e-04, 2.7289000e-04, ..., 1.0105000e-05,\n",
       "        7.0520000e-05, 2.9912500e-04],\n",
       "       [2.6044500e-04, 1.4940425e-03, 1.3268000e-04, ..., 8.7765000e-05,\n",
       "        1.1742000e-04, 2.3738500e-04],\n",
       "       [2.7289000e-04, 1.3268000e-04, 7.5029500e-04, ..., 1.4900000e-06,\n",
       "        1.0198000e-04, 3.1083000e-04],\n",
       "       ...,\n",
       "       [1.0105000e-05, 8.7765000e-05, 1.4900000e-06, ..., 1.3642350e-03,\n",
       "        7.3058500e-04, 8.1864000e-04],\n",
       "       [7.0520000e-05, 1.1742000e-04, 1.0198000e-04, ..., 7.3058500e-04,\n",
       "        5.7030275e-03, 2.5991300e-03],\n",
       "       [2.9912500e-04, 2.3738500e-04, 3.1083000e-04, ..., 8.1864000e-04,\n",
       "        2.5991300e-03, 9.0309000e-03]])"
      ]
     },
     "execution_count": 5,
     "metadata": {},
     "output_type": "execute_result"
    }
   ],
   "source": [
    "c.covariance_matrix"
   ]
  },
  {
   "cell_type": "code",
   "execution_count": 6,
   "metadata": {},
   "outputs": [],
   "source": [
    "signal = bpe.signal(67.0,0.3,0.8,-0.1,c.z)"
   ]
  },
  {
   "cell_type": "code",
   "execution_count": 7,
   "metadata": {},
   "outputs": [
    {
     "data": {
      "text/plain": [
       "[<matplotlib.lines.Line2D at 0x14e666814e0>]"
      ]
     },
     "execution_count": 7,
     "metadata": {},
     "output_type": "execute_result"
    },
    {
     "data": {
      "image/png": "[encoded data removed]",
      "text/plain": [
       "<Figure size 432x288 with 1 Axes>"
      ]
     },
     "metadata": {
      "needs_background": "light"
     },
     "output_type": "display_data"
    }
   ],
   "source": [
    "plt.plot(c.z,signal)\n",
    "plt.plot(c.z,c.mb)"
   ]
  },
  {
   "cell_type": "code",
   "execution_count": 8,
   "metadata": {},
   "outputs": [
    {
     "ename": "TypeError",
     "evalue": "'numpy.float64' object is not iterable",
     "output_type": "error",
     "traceback": [
      "\u001b[1;31m---------------------------------------------------------------------------\u001b[0m",
      "\u001b[1;31mTypeError\u001b[0m                                 Traceback (most recent call last)",
      "\u001b[1;32m<ipython-input-8-2e7a00afbd95>\u001b[0m in \u001b[0;36m<module>\u001b[1;34m\u001b[0m\n\u001b[1;32m----> 1\u001b[1;33m \u001b[0mnp\u001b[0m\u001b[1;33m.\u001b[0m\u001b[0mshape\u001b[0m\u001b[1;33m(\u001b[0m\u001b[0mbpe\u001b[0m\u001b[1;33m.\u001b[0m\u001b[0mchi_squared\u001b[0m\u001b[1;33m(\u001b[0m\u001b[1;36m67.0\u001b[0m\u001b[1;33m,\u001b[0m\u001b[1;36m0.3\u001b[0m\u001b[1;33m,\u001b[0m\u001b[1;36m0.7\u001b[0m\u001b[1;33m,\u001b[0m\u001b[1;36m0.0\u001b[0m\u001b[1;33m,\u001b[0m\u001b[1;33m-\u001b[0m\u001b[1;36m10.0\u001b[0m\u001b[1;33m,\u001b[0m\u001b[0mc\u001b[0m\u001b[1;33m)\u001b[0m\u001b[1;33m)\u001b[0m\u001b[1;33m\u001b[0m\u001b[1;33m\u001b[0m\u001b[0m\n\u001b[0m",
      "\u001b[1;32m~\\Desktop\\DS4S\\BPE\\BPE_functions.py\u001b[0m in \u001b[0;36mchi_squared\u001b[1;34m(H_0, omega_m, omega_lam, omega_k, M, container)\u001b[0m\n\u001b[0;32m    174\u001b[0m                 \u001b[1;33m-\u001b[0m\u001b[1;33m(\u001b[0m\u001b[0mmb\u001b[0m\u001b[1;33m[\u001b[0m\u001b[0mi\u001b[0m\u001b[1;33m]\u001b[0m \u001b[1;33m-\u001b[0m \u001b[0msignal\u001b[0m\u001b[1;33m(\u001b[0m\u001b[0mH_0\u001b[0m\u001b[1;33m,\u001b[0m \u001b[0momega_m\u001b[0m\u001b[1;33m,\u001b[0m \u001b[0momega_lam\u001b[0m\u001b[1;33m,\u001b[0m \u001b[0momega_k\u001b[0m\u001b[1;33m,\u001b[0m \u001b[0mz\u001b[0m\u001b[1;33m[\u001b[0m\u001b[0mi\u001b[0m\u001b[1;33m]\u001b[0m\u001b[1;33m)\u001b[0m \u001b[1;33m-\u001b[0m \u001b[0mM\u001b[0m\u001b[1;33m)\u001b[0m\u001b[1;33m\u001b[0m\u001b[1;33m\u001b[0m\u001b[0m\n\u001b[0;32m    175\u001b[0m                 \u001b[1;33m*\u001b[0m \u001b[0minverted_covariance_matrix\u001b[0m\u001b[1;33m[\u001b[0m\u001b[0mi\u001b[0m\u001b[1;33m]\u001b[0m\u001b[1;33m[\u001b[0m\u001b[0mj\u001b[0m\u001b[1;33m]\u001b[0m\u001b[1;33m\u001b[0m\u001b[1;33m\u001b[0m\u001b[0m\n\u001b[1;32m--> 176\u001b[1;33m                 \u001b[1;33m*\u001b[0m \u001b[1;33m(\u001b[0m\u001b[0mmb\u001b[0m\u001b[1;33m[\u001b[0m\u001b[0mj\u001b[0m\u001b[1;33m]\u001b[0m \u001b[1;33m-\u001b[0m \u001b[0msignal\u001b[0m\u001b[1;33m(\u001b[0m\u001b[0mH_0\u001b[0m\u001b[1;33m,\u001b[0m \u001b[0momega_m\u001b[0m\u001b[1;33m,\u001b[0m \u001b[0momega_lam\u001b[0m\u001b[1;33m,\u001b[0m \u001b[0momega_k\u001b[0m\u001b[1;33m,\u001b[0m \u001b[0mz\u001b[0m\u001b[1;33m[\u001b[0m\u001b[0mj\u001b[0m\u001b[1;33m]\u001b[0m\u001b[1;33m)\u001b[0m \u001b[1;33m-\u001b[0m \u001b[0mM\u001b[0m\u001b[1;33m)\u001b[0m\u001b[1;33m\u001b[0m\u001b[1;33m\u001b[0m\u001b[0m\n\u001b[0m\u001b[0;32m    177\u001b[0m             )\n\u001b[0;32m    178\u001b[0m \u001b[1;33m\u001b[0m\u001b[0m\n",
      "\u001b[1;32m~\\Desktop\\DS4S\\BPE\\BPE_functions.py\u001b[0m in \u001b[0;36msignal\u001b[1;34m(H_0, omega_m, omega_lam, omega_k, z)\u001b[0m\n\u001b[0;32m    136\u001b[0m         \u001b[0mredshift\u001b[0m\u001b[1;33m\u001b[0m\u001b[1;33m\u001b[0m\u001b[0m\n\u001b[0;32m    137\u001b[0m     \"\"\"\n\u001b[1;32m--> 138\u001b[1;33m     \u001b[1;32mreturn\u001b[0m \u001b[1;36m5\u001b[0m \u001b[1;33m*\u001b[0m \u001b[0mnp\u001b[0m\u001b[1;33m.\u001b[0m\u001b[0mlog10\u001b[0m\u001b[1;33m(\u001b[0m\u001b[0mluminosity_distance\u001b[0m\u001b[1;33m(\u001b[0m\u001b[0mH_0\u001b[0m\u001b[1;33m,\u001b[0m \u001b[0momega_m\u001b[0m\u001b[1;33m,\u001b[0m \u001b[0momega_lam\u001b[0m\u001b[1;33m,\u001b[0m \u001b[0momega_k\u001b[0m\u001b[1;33m,\u001b[0m \u001b[0mz\u001b[0m\u001b[1;33m)\u001b[0m \u001b[1;33m/\u001b[0m \u001b[1;36m10\u001b[0m\u001b[1;33m)\u001b[0m\u001b[1;33m\u001b[0m\u001b[1;33m\u001b[0m\u001b[0m\n\u001b[0m\u001b[0;32m    139\u001b[0m \u001b[1;33m\u001b[0m\u001b[0m\n\u001b[0;32m    140\u001b[0m \u001b[1;33m\u001b[0m\u001b[0m\n",
      "\u001b[1;32m~\\Desktop\\DS4S\\BPE\\BPE_functions.py\u001b[0m in \u001b[0;36mluminosity_distance\u001b[1;34m(H_0, omega_m, omega_lam, omega_k, z)\u001b[0m\n\u001b[0;32m    117\u001b[0m         \u001b[0mredshift\u001b[0m\u001b[1;33m\u001b[0m\u001b[1;33m\u001b[0m\u001b[0m\n\u001b[0;32m    118\u001b[0m     \"\"\"\n\u001b[1;32m--> 119\u001b[1;33m     \u001b[1;32mreturn\u001b[0m \u001b[1;33m(\u001b[0m\u001b[1;36m1\u001b[0m \u001b[1;33m+\u001b[0m \u001b[0mz\u001b[0m\u001b[1;33m)\u001b[0m \u001b[1;33m*\u001b[0m \u001b[0mtransverse_comoving_distance\u001b[0m\u001b[1;33m(\u001b[0m\u001b[0mH_0\u001b[0m\u001b[1;33m,\u001b[0m \u001b[0momega_m\u001b[0m\u001b[1;33m,\u001b[0m \u001b[0momega_lam\u001b[0m\u001b[1;33m,\u001b[0m \u001b[0momega_k\u001b[0m\u001b[1;33m,\u001b[0m \u001b[0mz\u001b[0m\u001b[1;33m)\u001b[0m\u001b[1;33m\u001b[0m\u001b[1;33m\u001b[0m\u001b[0m\n\u001b[0m\u001b[0;32m    120\u001b[0m \u001b[1;33m\u001b[0m\u001b[0m\n\u001b[0;32m    121\u001b[0m \u001b[1;33m\u001b[0m\u001b[0m\n",
      "\u001b[1;32m~\\Desktop\\DS4S\\BPE\\BPE_functions.py\u001b[0m in \u001b[0;36mtransverse_comoving_distance\u001b[1;34m(H_0, omega_m, omega_lam, omega_k, z)\u001b[0m\n\u001b[0;32m     87\u001b[0m \u001b[1;33m\u001b[0m\u001b[0m\n\u001b[0;32m     88\u001b[0m     \u001b[1;32melif\u001b[0m \u001b[0momega_k\u001b[0m \u001b[1;33m==\u001b[0m \u001b[1;36m0\u001b[0m\u001b[1;33m:\u001b[0m\u001b[1;33m\u001b[0m\u001b[1;33m\u001b[0m\u001b[0m\n\u001b[1;32m---> 89\u001b[1;33m         \u001b[1;32mreturn\u001b[0m \u001b[0mcomoving_distance\u001b[0m\u001b[1;33m(\u001b[0m\u001b[0mH_0\u001b[0m\u001b[1;33m,\u001b[0m \u001b[0momega_m\u001b[0m\u001b[1;33m,\u001b[0m \u001b[0momega_lam\u001b[0m\u001b[1;33m,\u001b[0m \u001b[0momega_k\u001b[0m\u001b[1;33m,\u001b[0m \u001b[0mz\u001b[0m\u001b[1;33m)\u001b[0m\u001b[1;33m\u001b[0m\u001b[1;33m\u001b[0m\u001b[0m\n\u001b[0m\u001b[0;32m     90\u001b[0m \u001b[1;33m\u001b[0m\u001b[0m\n\u001b[0;32m     91\u001b[0m     \u001b[1;32melse\u001b[0m\u001b[1;33m:\u001b[0m\u001b[1;33m\u001b[0m\u001b[1;33m\u001b[0m\u001b[0m\n",
      "\u001b[1;32m~\\Desktop\\DS4S\\BPE\\BPE_functions.py\u001b[0m in \u001b[0;36mcomoving_distance\u001b[1;34m(H_0, omega_m, omega_lam, omega_k, z)\u001b[0m\n\u001b[0;32m     54\u001b[0m     \"\"\"\n\u001b[0;32m     55\u001b[0m     return hubble_distance(H_0) * np.array(\n\u001b[1;32m---> 56\u001b[1;33m         \u001b[1;33m[\u001b[0m\u001b[0mquad\u001b[0m\u001b[1;33m(\u001b[0m\u001b[0mE\u001b[0m\u001b[1;33m,\u001b[0m \u001b[1;36m0\u001b[0m\u001b[1;33m,\u001b[0m \u001b[0mj\u001b[0m\u001b[1;33m,\u001b[0m \u001b[0margs\u001b[0m\u001b[1;33m=\u001b[0m\u001b[1;33m(\u001b[0m\u001b[0mH_0\u001b[0m\u001b[1;33m,\u001b[0m \u001b[0momega_m\u001b[0m\u001b[1;33m,\u001b[0m \u001b[0momega_lam\u001b[0m\u001b[1;33m,\u001b[0m \u001b[0momega_k\u001b[0m\u001b[1;33m)\u001b[0m\u001b[1;33m)\u001b[0m\u001b[1;33m[\u001b[0m\u001b[1;36m0\u001b[0m\u001b[1;33m]\u001b[0m \u001b[1;32mfor\u001b[0m \u001b[0mj\u001b[0m \u001b[1;32min\u001b[0m \u001b[0mz\u001b[0m\u001b[1;33m]\u001b[0m\u001b[1;33m\u001b[0m\u001b[1;33m\u001b[0m\u001b[0m\n\u001b[0m\u001b[0;32m     57\u001b[0m     )\n\u001b[0;32m     58\u001b[0m \u001b[1;33m\u001b[0m\u001b[0m\n",
      "\u001b[1;31mTypeError\u001b[0m: 'numpy.float64' object is not iterable"
     ]
    }
   ],
   "source": [
    "np.shape(bpe.chi_squared(67.0,0.3,0.7,0.0,-10.0,c))"
   ]
  },
  {
   "cell_type": "code",
   "execution_count": null,
   "metadata": {},
   "outputs": [],
   "source": [
    "def f(x):\n",
    "    return x**2\n"
   ]
  },
  {
   "cell_type": "code",
   "execution_count": null,
   "metadata": {},
   "outputs": [],
   "source": [
    "from scipy.integrate import quad"
   ]
  },
  {
   "cell_type": "code",
   "execution_count": null,
   "metadata": {},
   "outputs": [],
   "source": [
    "a=np.array([1,2])"
   ]
  },
  {
   "cell_type": "code",
   "execution_count": null,
   "metadata": {},
   "outputs": [],
   "source": [
    "np.array([quad(f,0,x)[0] for x in a])"
   ]
  },
  {
   "cell_type": "code",
   "execution_count": null,
   "metadata": {},
   "outputs": [],
   "source": []
  }
 ],
 "metadata": {
  "kernelspec": {
   "display_name": "Python 3",
   "language": "python",
   "name": "python3"
  },
  "language_info": {
   "codemirror_mode": {
    "name": "ipython",
    "version": 3
   },
   "file_extension": ".py",
   "mimetype": "text/x-python",
   "name": "python",
   "nbconvert_exporter": "python",
   "pygments_lexer": "ipython3",
   "version": "3.7.3"
  }
 },
 "nbformat": 4,
 "nbformat_minor": 4
}
