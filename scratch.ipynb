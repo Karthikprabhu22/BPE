{
 "cells": [
  {
   "cell_type": "code",
   "execution_count": 1,
   "metadata": {},
   "outputs": [],
   "source": [
    "import BPE_functions as bpe\n",
    "\n",
    "import numpy as np\n",
    "import matplotlib.pyplot as plt\n",
    "from scipy.optimize import minimize"
   ]
  },
  {
   "cell_type": "code",
   "execution_count": 2,
   "metadata": {},
   "outputs": [],
   "source": [
    "c = bpe.DataContainer()"
   ]
  },
  {
   "cell_type": "code",
   "execution_count": 3,
   "metadata": {},
   "outputs": [],
   "source": [
    "c.import_params()\n",
    "c.import_systematic_covariance_matrix()\n",
    "c.calculate_total_covariance_matrix()"
   ]
  },
  {
   "cell_type": "code",
   "execution_count": 4,
   "metadata": {},
   "outputs": [
    {
     "data": {
      "text/plain": [
       "array([[4.550000e-04, 2.604450e-04, 2.728900e-04, ..., 1.010500e-05,\n",
       "        7.052000e-05, 2.991250e-04],\n",
       "       [2.604450e-04, 7.944400e-04, 1.326800e-04, ..., 8.776500e-05,\n",
       "        1.174200e-04, 2.373850e-04],\n",
       "       [2.728900e-04, 1.326800e-04, 2.166850e-04, ..., 1.490000e-06,\n",
       "        1.019800e-04, 3.108300e-04],\n",
       "       ...,\n",
       "       [1.010500e-05, 8.776500e-05, 1.490000e-06, ..., 6.024750e-04,\n",
       "        7.305850e-04, 8.186400e-04],\n",
       "       [7.052000e-05, 1.174200e-04, 1.019800e-04, ..., 7.305850e-04,\n",
       "        2.527705e-03, 2.599130e-03],\n",
       "       [2.991250e-04, 2.373850e-04, 3.108300e-04, ..., 8.186400e-04,\n",
       "        2.599130e-03, 3.628650e-03]])"
      ]
     },
     "execution_count": 4,
     "metadata": {},
     "output_type": "execute_result"
    }
   ],
   "source": [
    "c.systematic_covariance_matrix"
   ]
  },
  {
   "cell_type": "code",
   "execution_count": 5,
   "metadata": {},
   "outputs": [
    {
     "data": {
      "text/plain": [
       "array([[1.4222100e-03, 2.6044500e-04, 2.7289000e-04, ..., 1.0105000e-05,\n",
       "        7.0520000e-05, 2.9912500e-04],\n",
       "       [2.6044500e-04, 1.4940425e-03, 1.3268000e-04, ..., 8.7765000e-05,\n",
       "        1.1742000e-04, 2.3738500e-04],\n",
       "       [2.7289000e-04, 1.3268000e-04, 7.5029500e-04, ..., 1.4900000e-06,\n",
       "        1.0198000e-04, 3.1083000e-04],\n",
       "       ...,\n",
       "       [1.0105000e-05, 8.7765000e-05, 1.4900000e-06, ..., 1.3642350e-03,\n",
       "        7.3058500e-04, 8.1864000e-04],\n",
       "       [7.0520000e-05, 1.1742000e-04, 1.0198000e-04, ..., 7.3058500e-04,\n",
       "        5.7030275e-03, 2.5991300e-03],\n",
       "       [2.9912500e-04, 2.3738500e-04, 3.1083000e-04, ..., 8.1864000e-04,\n",
       "        2.5991300e-03, 9.0309000e-03]])"
      ]
     },
     "execution_count": 5,
     "metadata": {},
     "output_type": "execute_result"
    }
   ],
   "source": [
    "c.covariance_matrix"
   ]
  },
  {
   "cell_type": "code",
   "execution_count": 6,
   "metadata": {},
   "outputs": [],
   "source": [
    "signal = bpe.signal(67.0,0.3,0.7,0,c.z)"
   ]
  },
  {
   "cell_type": "code",
   "execution_count": 7,
   "metadata": {},
   "outputs": [
    {
     "data": {
      "text/plain": [
       "[<matplotlib.lines.Line2D at 0x1b97e5e54a8>]"
      ]
     },
     "execution_count": 7,
     "metadata": {},
     "output_type": "execute_result"
    },
    {
     "data": {
      "image/png": "[encoded data removed]",
      "text/plain": [
       "<Figure size 432x288 with 1 Axes>"
      ]
     },
     "metadata": {
      "needs_background": "light"
     },
     "output_type": "display_data"
    }
   ],
   "source": [
    "plt.plot(c.z,signal)\n",
    "plt.plot(c.z,c.mb)"
   ]
  },
  {
   "cell_type": "code",
   "execution_count": 8,
   "metadata": {},
   "outputs": [
    {
     "data": {
      "text/plain": [
       "4282.121961722178"
      ]
     },
     "execution_count": 8,
     "metadata": {},
     "output_type": "execute_result"
    }
   ],
   "source": [
    "bpe.chi_squared(67.0,0.3,0.7,0.0,10,c)"
   ]
  },
  {
   "cell_type": "code",
   "execution_count": 9,
   "metadata": {},
   "outputs": [
    {
     "name": "stderr",
     "output_type": "stream",
     "text": [
      "C:\\Users\\karth\\Desktop\\DS4S\\BPE\\BPE_functions.py:224: RuntimeWarning: invalid value encountered in double_scalars\n",
      "  container,\n"
     ]
    },
    {
     "ename": "ValueError",
     "evalue": "mean must be 1 dimensional",
     "output_type": "error",
     "traceback": [
      "\u001b[1;31m---------------------------------------------------------------------------\u001b[0m",
      "\u001b[1;31mValueError\u001b[0m                                Traceback (most recent call last)",
      "\u001b[1;32m<ipython-input-9-490f6105f56a>\u001b[0m in \u001b[0;36m<module>\u001b[1;34m\u001b[0m\n\u001b[1;32m----> 1\u001b[1;33m \u001b[0mbpe\u001b[0m\u001b[1;33m.\u001b[0m\u001b[0mMCMC\u001b[0m\u001b[1;33m(\u001b[0m\u001b[1;36m1000\u001b[0m\u001b[1;33m,\u001b[0m\u001b[0mc\u001b[0m\u001b[1;33m)\u001b[0m\u001b[1;33m\u001b[0m\u001b[1;33m\u001b[0m\u001b[0m\n\u001b[0m",
      "\u001b[1;32m~\\Desktop\\DS4S\\BPE\\BPE_functions.py\u001b[0m in \u001b[0;36mMCMC\u001b[1;34m(num_iter, container)\u001b[0m\n\u001b[0;32m    246\u001b[0m     \u001b[0mchain\u001b[0m \u001b[1;33m=\u001b[0m \u001b[1;33m[\u001b[0m\u001b[0mcurrent_state\u001b[0m\u001b[1;33m]\u001b[0m\u001b[1;33m\u001b[0m\u001b[1;33m\u001b[0m\u001b[0m\n\u001b[0;32m    247\u001b[0m     \u001b[1;32mfor\u001b[0m \u001b[0m_\u001b[0m \u001b[1;32min\u001b[0m \u001b[0mrange\u001b[0m\u001b[1;33m(\u001b[0m\u001b[0mnum_iter\u001b[0m\u001b[1;33m)\u001b[0m\u001b[1;33m:\u001b[0m\u001b[1;33m\u001b[0m\u001b[1;33m\u001b[0m\u001b[0m\n\u001b[1;32m--> 248\u001b[1;33m         \u001b[0mlink\u001b[0m \u001b[1;33m=\u001b[0m \u001b[0mmetropolis\u001b[0m\u001b[1;33m(\u001b[0m\u001b[0mcurrent_state\u001b[0m\u001b[1;33m,\u001b[0m \u001b[0mcontainer\u001b[0m\u001b[1;33m)\u001b[0m\u001b[1;33m\u001b[0m\u001b[1;33m\u001b[0m\u001b[0m\n\u001b[0m\u001b[0;32m    249\u001b[0m         \u001b[0mchain\u001b[0m\u001b[1;33m.\u001b[0m\u001b[0mappend\u001b[0m\u001b[1;33m(\u001b[0m\u001b[0mlink\u001b[0m\u001b[1;33m)\u001b[0m\u001b[1;33m\u001b[0m\u001b[1;33m\u001b[0m\u001b[0m\n\u001b[0;32m    250\u001b[0m         \u001b[0mcurrent_state\u001b[0m \u001b[1;33m=\u001b[0m \u001b[0mlink\u001b[0m\u001b[1;33m\u001b[0m\u001b[1;33m\u001b[0m\u001b[0m\n",
      "\u001b[1;32m~\\Desktop\\DS4S\\BPE\\BPE_functions.py\u001b[0m in \u001b[0;36mmetropolis\u001b[1;34m(current_state, container)\u001b[0m\n\u001b[0;32m    207\u001b[0m     \"\"\"\n\u001b[0;32m    208\u001b[0m     \u001b[0mr\u001b[0m \u001b[1;33m=\u001b[0m \u001b[0mnp\u001b[0m\u001b[1;33m.\u001b[0m\u001b[0mrandom\u001b[0m\u001b[1;33m.\u001b[0m\u001b[0mrandom\u001b[0m\u001b[1;33m(\u001b[0m\u001b[1;33m)\u001b[0m\u001b[1;33m\u001b[0m\u001b[1;33m\u001b[0m\u001b[0m\n\u001b[1;32m--> 209\u001b[1;33m     \u001b[0mg_vector\u001b[0m \u001b[1;33m=\u001b[0m \u001b[0mgenerating_function\u001b[0m\u001b[1;33m(\u001b[0m\u001b[0mcurrent_state\u001b[0m\u001b[1;33m)\u001b[0m\u001b[1;33m\u001b[0m\u001b[1;33m\u001b[0m\u001b[0m\n\u001b[0m\u001b[0;32m    210\u001b[0m     ratio = likelihood(\n\u001b[0;32m    211\u001b[0m         \u001b[0mg_vector\u001b[0m\u001b[1;33m[\u001b[0m\u001b[1;36m0\u001b[0m\u001b[1;33m]\u001b[0m\u001b[1;33m,\u001b[0m\u001b[1;33m\u001b[0m\u001b[1;33m\u001b[0m\u001b[0m\n",
      "\u001b[1;32m~\\Desktop\\DS4S\\BPE\\BPE_functions.py\u001b[0m in \u001b[0;36mgenerating_function\u001b[1;34m(param_vector, mcmc_covariance)\u001b[0m\n\u001b[0;32m    193\u001b[0m     \u001b[0mcov\u001b[0m \u001b[1;33m=\u001b[0m \u001b[0mmcmc_covariance\u001b[0m\u001b[1;33m\u001b[0m\u001b[1;33m\u001b[0m\u001b[0m\n\u001b[0;32m    194\u001b[0m \u001b[1;33m\u001b[0m\u001b[0m\n\u001b[1;32m--> 195\u001b[1;33m     \u001b[0mnew_state\u001b[0m \u001b[1;33m=\u001b[0m \u001b[0mnp\u001b[0m\u001b[1;33m.\u001b[0m\u001b[0mrandom\u001b[0m\u001b[1;33m.\u001b[0m\u001b[0mmultivariate_normal\u001b[0m\u001b[1;33m(\u001b[0m\u001b[0mmean\u001b[0m\u001b[1;33m,\u001b[0m \u001b[0mcov\u001b[0m\u001b[1;33m)\u001b[0m\u001b[1;33m\u001b[0m\u001b[1;33m\u001b[0m\u001b[0m\n\u001b[0m\u001b[0;32m    196\u001b[0m     \u001b[1;32mreturn\u001b[0m \u001b[0mnew_state\u001b[0m\u001b[1;33m\u001b[0m\u001b[1;33m\u001b[0m\u001b[0m\n\u001b[0;32m    197\u001b[0m \u001b[1;33m\u001b[0m\u001b[0m\n",
      "\u001b[1;32mmtrand.pyx\u001b[0m in \u001b[0;36mnumpy.random.mtrand.RandomState.multivariate_normal\u001b[1;34m()\u001b[0m\n",
      "\u001b[1;31mValueError\u001b[0m: mean must be 1 dimensional"
     ]
    }
   ],
   "source": [
    "bpe.MCMC(1000,c)"
   ]
  },
  {
   "cell_type": "code",
   "execution_count": null,
   "metadata": {},
   "outputs": [],
   "source": []
  }
 ],
 "metadata": {
  "kernelspec": {
   "display_name": "Python 3",
   "language": "python",
   "name": "python3"
  },
  "language_info": {
   "codemirror_mode": {
    "name": "ipython",
    "version": 3
   },
   "file_extension": ".py",
   "mimetype": "text/x-python",
   "name": "python",
   "nbconvert_exporter": "python",
   "pygments_lexer": "ipython3",
   "version": "3.7.3"
  }
 },
 "nbformat": 4,
 "nbformat_minor": 4
}
